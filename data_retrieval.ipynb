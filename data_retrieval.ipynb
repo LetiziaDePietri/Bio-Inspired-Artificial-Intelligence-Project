{
 "cells": [
  {
   "cell_type": "code",
   "execution_count": 1,
   "id": "c229d7cb",
   "metadata": {},
   "outputs": [],
   "source": [
    "import requests\n",
    "import os\n",
    "import pandas as pd\n",
    "import gzip\n",
    "import io\n",
    "import numpy as np\n",
    "import GEOparse"
   ]
  },
  {
   "cell_type": "code",
   "execution_count": 2,
   "id": "7e735554",
   "metadata": {},
   "outputs": [],
   "source": [
    "gse = GEOparse.get_GEO(geo=\"GSE25066\", destdir=\"data/\")\n",
    "\n",
    "#build expression matrix (genes as rows, samples as columns, then transpose)\n",
    "expression_data = pd.DataFrame({gsm_name: gsm.table.set_index(\"ID_REF\")[\"VALUE\"] for gsm_name, gsm in gse.gsms.items()}).T\n",
    "\n",
    "labels = {}\n",
    "\n",
    "for gsm_name, gsm in gse.gsms.items():\n",
    "    characteristics = gsm.metadata.get(\"characteristics_ch1\", [])\n",
    "    response_line = next((c for c in characteristics if \"response\" in c.lower() or \"pcr\" in c.lower()), None)\n",
    "\n",
    "    if response_line:\n",
    "        try:\n",
    "            label_str = response_line.split(\":\")[1].strip().lower()\n",
    "            if label_str == \"pcr\":\n",
    "                labels[gsm_name] = 1\n",
    "            elif label_str == \"rd\":\n",
    "                labels[gsm_name] = 0\n",
    "            else:\n",
    "                labels[gsm_name] = None  #\"na\" or unexpected\n",
    "        except Exception:\n",
    "            labels[gsm_name] = None\n",
    "    else:\n",
    "        labels[gsm_name] = None\n",
    "\n",
    "label_series = pd.Series(labels)\n",
    "\n",
    "#merge labels with expression data\n",
    "df = expression_data.merge(label_series.rename(\"pcr_response\"), left_index=True, right_index=True)\n",
    "\n",
    "#drop samples with missing expression or missing label\n",
    "n_before = df.shape[0]\n",
    "df_clean = df.dropna()\n",
    "n_after = df_clean.shape[0]\n",
    "df_clean[\"pcr_response\"] = df_clean[\"pcr_response\"].astype(int)\n",
    "\n",
    "print(f\"Samples before dropping missing: {n_before}\")\n",
    "print(f\"Samples after dropping missing: {n_after}\")\n",
    "print(f\"Samples discarded: {n_before - n_after}\")\n",
    "\n",
    "#show counts of pCR response labels\n",
    "print(df_clean[\"pcr_response\"].value_counts().sort_index())"
   ]
  },
  {
   "cell_type": "code",
   "execution_count": 44,
   "id": "430d8e32",
   "metadata": {},
   "outputs": [],
   "source": [
    "df_clean.to_csv(\"/omics/groups/OE0540/internal/users/de_pietri/code/project/data/df_final3.csv\", index=True)"
   ]
  }
 ],
 "metadata": {
  "kernelspec": {
   "display_name": "Python (deeprvat)",
   "language": "python",
   "name": "deeprvat"
  }
 },
 "nbformat": 4,
 "nbformat_minor": 5
}
